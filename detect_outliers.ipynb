{
 "cells": [
  {
   "cell_type": "markdown",
   "id": "3ec8bd6c",
   "metadata": {},
   "source": [
    "# Retrieval of average item prices at each store"
   ]
  },
  {
   "cell_type": "code",
   "execution_count": 2,
   "id": "de687193",
   "metadata": {},
   "outputs": [
    {
     "name": "stdout",
     "output_type": "stream",
     "text": [
      "Collecting matplotlib\n",
      "  Using cached matplotlib-3.4.3-cp38-cp38-manylinux1_x86_64.whl (10.3 MB)\n",
      "Collecting cycler>=0.10\n",
      "  Using cached cycler-0.11.0-py3-none-any.whl (6.4 kB)\n",
      "Requirement already satisfied: python-dateutil>=2.7 in /home/kiley/.pyenv/versions/3.8.0/lib/python3.8/site-packages (from matplotlib) (2.8.1)\n",
      "Collecting pillow>=6.2.0\n",
      "  Using cached Pillow-8.4.0-cp38-cp38-manylinux_2_17_x86_64.manylinux2014_x86_64.whl (3.1 MB)\n",
      "Collecting kiwisolver>=1.0.1\n",
      "  Using cached kiwisolver-1.3.2-cp38-cp38-manylinux_2_5_x86_64.manylinux1_x86_64.whl (1.2 MB)\n",
      "Requirement already satisfied: pyparsing>=2.2.1 in /home/kiley/.pyenv/versions/3.8.0/lib/python3.8/site-packages (from matplotlib) (2.4.7)\n",
      "Requirement already satisfied: numpy>=1.16 in /home/kiley/.pyenv/versions/3.8.0/lib/python3.8/site-packages (from matplotlib) (1.19.5)\n",
      "Requirement already satisfied: six>=1.5 in /home/kiley/.pyenv/versions/3.8.0/lib/python3.8/site-packages (from python-dateutil>=2.7->matplotlib) (1.15.0)\n",
      "Installing collected packages: pillow, kiwisolver, cycler, matplotlib\n",
      "Successfully installed cycler-0.11.0 kiwisolver-1.3.2 matplotlib-3.4.3 pillow-8.4.0\n",
      "\u001b[33mWARNING: You are using pip version 21.1.2; however, version 21.3.1 is available.\n",
      "You should consider upgrading via the '/home/kiley/.pyenv/versions/3.8.0/bin/python3.8 -m pip install --upgrade pip' command.\u001b[0m\n"
     ]
    }
   ],
   "source": [
    "import sys  \n",
    "!{sys.executable} -m pip install --user matplotlib"
   ]
  },
  {
   "cell_type": "code",
   "execution_count": 3,
   "id": "a64b1bdb",
   "metadata": {},
   "outputs": [],
   "source": [
    "import re\n",
    "import csv\n",
    "from decimal import Decimal\n",
    "import matplotlib.pyplot as plt\n",
    "\n",
    "# initiate dictionaries storing cumulative information for each store\n",
    "amount_totals = {}\n",
    "item_totals = {}\n",
    "average_item_prices = {}\n",
    "\n",
    "# retrieve average item price at each store\n",
    "transaction_amount = 0\n",
    "with open('transactions.csv', mode='r') as csv_file:\n",
    "    reader = csv.DictReader(csv_file)\n",
    "    for row in reader:\n",
    "        if(row[\"STORE_ID\"]):\n",
    "            if(re.match(\"\\d+\\.*\\d*\", row[\"ITEM_QTY\"]) and re.match(\"\\d+\\.*\\d*\", row[\"TRANS_USD\"])):\n",
    "                transaction_amount = Decimal(row[\"TRANS_USD\"])\n",
    "\n",
    "                if (row[\"STORE_ID\"] in amount_totals):\n",
    "                    # print(decimal)\n",
    "                    amount_totals[row[\"STORE_ID\"]] += float(row[\"TRANS_USD\"])\n",
    "                    item_totals[row[\"STORE_ID\"]] += int(row[\"ITEM_QTY\"])\n",
    "                else:\n",
    "                    amount_totals[row[\"STORE_ID\"]] = float(row[\"TRANS_USD\"])\n",
    "                    item_totals[row[\"STORE_ID\"]] = int(row[\"ITEM_QTY\"])\n",
    "\n",
    "# find average item prices\n",
    "for key in amount_totals:\n",
    "    average_item_prices[key] = round((amount_totals[key]/item_totals[key]), 2)"
   ]
  },
  {
   "cell_type": "markdown",
   "id": "f6aea377-9564-4ce1-b1cf-51036876b879",
   "metadata": {},
   "source": [
    "# Scatterplotting of stores' average item prices"
   ]
  },
  {
   "cell_type": "code",
   "execution_count": 4,
   "id": "f4c7dce0-ac2d-443d-b204-e73e9b62f21e",
   "metadata": {},
   "outputs": [
    {
     "data": {
      "image/png": "[encoded data removed]",
      "text/plain": [
       "<Figure size 432x288 with 1 Axes>"
      ]
     },
     "metadata": {
      "needs_background": "light"
     },
     "output_type": "display_data"
    }
   ],
   "source": [
    "store_ids = list(average_item_prices.keys())\n",
    "average_prices = list(average_item_prices.values())\n",
    "plt.scatter(store_ids, average_prices)\n",
    "plt.xlabel(\"Store ID\")\n",
    "plt.ylabel(\"Average purchased item price\")\n",
    "plt.title(\"Average price of items purchased at different stores\")\n",
    "plt.show()"
   ]
  },
  {
   "cell_type": "raw",
   "id": "e66b432e-69e7-47f3-9847-32af276ad71f",
   "metadata": {},
   "source": [
    "From the above scatterplot, store 109 appears to be an outlier in that it's average purchased item price of around 11 is much higher than the average item price of other stores that remains relatively near 10.2."
   ]
  },
  {
   "cell_type": "markdown",
   "id": "6d1586ae-4f4a-41dc-8550-51a6f6b2f188",
   "metadata": {},
   "source": [
    "# Finding Upper and Lower Bounds using Inter Quartile Range"
   ]
  },
  {
   "cell_type": "code",
   "execution_count": 25,
   "id": "ff688cd8-62fd-459c-8031-489e939970d6",
   "metadata": {},
   "outputs": [
    {
     "name": "stdout",
     "output_type": "stream",
     "text": [
      "Median price:  10.07\n",
      "Lower quartile price:  9.96\n",
      "Upper quartile price:  10.14\n"
     ]
    }
   ],
   "source": [
    "average_prices.sort()\n",
    "\n",
    "def median(price_list):\n",
    "    if(len(price_list) % 2 == 1):\n",
    "        index = len(price_list)//2\n",
    "        median_price = price_list[index]\n",
    "    if(len(price_list) % 2 == 0):\n",
    "        index = (len(price_list)//2 + (len(price_list)//2 - 1))//2 + 1\n",
    "        median_price = (price_list[len(price_list)//2] + price_list[len(price_list)//2 - 1])/2\n",
    "    return median_price, index\n",
    "\n",
    "# find median price\n",
    "median_price, median_price_index = median(average_prices)\n",
    "lower_quartile_price, lower_quartile_price_index = median(average_prices[0:median_price_index])\n",
    "upper_quartile_price, upper_quartile_price_index = median(average_prices[median_price_index:len(average_prices)])\n",
    "\n",
    "print(\"Median price: \", median_price)\n",
    "print(\"Lower quartile price: \", lower_quartile_price)\n",
    "print(\"Upper quartile price: \", upper_quartile_price)"
   ]
  },
  {
   "cell_type": "code",
   "execution_count": 26,
   "id": "283e8fc3-c22d-43eb-82bb-0691f6f0fe2c",
   "metadata": {},
   "outputs": [
    {
     "name": "stdout",
     "output_type": "stream",
     "text": [
      "Above upper quartile price:  10.27\n",
      "Above upper quartile price:  11.04\n",
      "Below lower quartile price:  9.78\n"
     ]
    }
   ],
   "source": [
    "# print data points above and below upper and lower quartile prices\n",
    "for key in average_item_prices:\n",
    "    if(average_item_prices[key] < lower_quartile_price):\n",
    "        print(\"Below lower quartile price: \", average_item_prices[key])\n",
    "    if(average_item_prices[key] > upper_quartile_price):\n",
    "        print(\"Above upper quartile price: \", average_item_prices[key])"
   ]
  },
  {
   "cell_type": "code",
   "execution_count": 27,
   "id": "6206bc9e-8d43-4506-8a9b-da3e89fb2e1f",
   "metadata": {},
   "outputs": [
    {
     "data": {
      "image/png": "[encoded data removed]",
      "text/plain": [
       "<Figure size 432x288 with 1 Axes>"
      ]
     },
     "metadata": {
      "needs_background": "light"
     },
     "output_type": "display_data"
    }
   ],
   "source": [
    "# represent upper and lower quartiles on plot\n",
    "plt.scatter(store_ids, average_prices)\n",
    "plt.xlabel(\"Store ID\")\n",
    "plt.ylabel(\"Average purchased item price\")\n",
    "plt.title(\"Average price of items purchased at different stores\")\n",
    "plt.axhline(y = 9.96, color = 'r', linestyle = '-')\n",
    "plt.axhline(y = 10.14, color = 'r', linestyle = '-')\n",
    "plt.show()"
   ]
  },
  {
   "cell_type": "raw",
   "id": "2472aa49-f91c-4765-82ec-0b8b47f308d4",
   "metadata": {},
   "source": [
    "From this analysis, stores 101 and 106 can also be considered as outliers in terms of their average purchased item price because they fall outside of the interquartile range, while store 103 remains far outside of this range. Whether stores 101 and/or 106 are considered as outliers should be decided based on the factors surrounding the dataset."
   ]
  }
 ],
 "metadata": {
  "kernelspec": {
   "display_name": "Python 3",
   "language": "python",
   "name": "python3"
  },
  "language_info": {
   "codemirror_mode": {
    "name": "ipython",
    "version": 3
   },
   "file_extension": ".py",
   "mimetype": "text/x-python",
   "name": "python",
   "nbconvert_exporter": "python",
   "pygments_lexer": "ipython3",
   "version": "3.8.0"
  }
 },
 "nbformat": 4,
 "nbformat_minor": 5
}
